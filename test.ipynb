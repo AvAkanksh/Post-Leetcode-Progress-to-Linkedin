{
 "cells": [
  {
   "cell_type": "code",
   "execution_count": 34,
   "metadata": {},
   "outputs": [],
   "source": [
    "import requests\n",
    "import json\n",
    "import time\n",
    "import os"
   ]
  },
  {
   "cell_type": "code",
   "execution_count": 35,
   "metadata": {},
   "outputs": [],
   "source": [
    "LEETCODE_USERNAME = os.environ[\"Leetcode_UID\"]\n",
    "LIMIT = 50"
   ]
  },
  {
   "cell_type": "code",
   "execution_count": 39,
   "metadata": {},
   "outputs": [],
   "source": [
    "url = \"https://leetcode.com/graphql/\"\n",
    "\n",
    "payload = json.dumps({\n",
    "  \"query\": \"query recentAcSubmissions($username: String!, $limit: Int!) {recentAcSubmissionList(username: $username, limit: $limit){id title titleSlug timestamp}}\",\n",
    "  \"variables\": {\n",
    "    \"username\": LEETCODE_USERNAME,\n",
    "    \"limit\": LIMIT\n",
    "  },\n",
    "  \"operationName\": \"recentAcSubmissions\"\n",
    "})\n",
    "headers = {\n",
    "  'Content-Type': 'application/json'\n",
    "}\n",
    "\n",
    "recent_ac_list = json.loads(requests.post( url, headers=headers, data=payload).text)['data']['recentAcSubmissionList']\n",
    "SECONDS_IN_ONE_DAY = 86400\n",
    "YESTERDAY_EPOCH = int(time.time()) - SECONDS_IN_ONE_DAY\n",
    "ac_today = [i for i in recent_ac_list if int(i['timestamp']) > YESTERDAY_EPOCH]\n"
   ]
  },
  {
   "cell_type": "code",
   "execution_count": 40,
   "metadata": {},
   "outputs": [
    {
     "data": {
      "text/plain": [
       "[{'id': '1349258906',\n",
       "  'title': 'Minimum Falling Path Sum',\n",
       "  'titleSlug': 'minimum-falling-path-sum',\n",
       "  'timestamp': '1723144529'},\n",
       " {'id': '1349203269',\n",
       "  'title': 'Triangle',\n",
       "  'titleSlug': 'triangle',\n",
       "  'timestamp': '1723140985'},\n",
       " {'id': '1349168020',\n",
       "  'title': 'Minimum Path Sum',\n",
       "  'titleSlug': 'minimum-path-sum',\n",
       "  'timestamp': '1723139263'},\n",
       " {'id': '1349150265',\n",
       "  'title': 'Unique Paths II',\n",
       "  'titleSlug': 'unique-paths-ii',\n",
       "  'timestamp': '1723138412'},\n",
       " {'id': '1348220470',\n",
       "  'title': 'Unique Paths',\n",
       "  'titleSlug': 'unique-paths',\n",
       "  'timestamp': '1723063392'},\n",
       " {'id': '1348161264',\n",
       "  'title': 'House Robber II',\n",
       "  'titleSlug': 'house-robber-ii',\n",
       "  'timestamp': '1723058752'},\n",
       " {'id': '1348127544',\n",
       "  'title': 'House Robber',\n",
       "  'titleSlug': 'house-robber',\n",
       "  'timestamp': '1723056684'},\n",
       " {'id': '1348112983',\n",
       "  'title': 'Climbing Stairs',\n",
       "  'titleSlug': 'climbing-stairs',\n",
       "  'timestamp': '1723055877'},\n",
       " {'id': '1338495579',\n",
       "  'title': 'Remove Duplicates from Sorted Array',\n",
       "  'titleSlug': 'remove-duplicates-from-sorted-array',\n",
       "  'timestamp': '1722348104'},\n",
       " {'id': '1338482940',\n",
       "  'title': 'Check if Array Is Sorted and Rotated',\n",
       "  'titleSlug': 'check-if-array-is-sorted-and-rotated',\n",
       "  'timestamp': '1722347361'}]"
      ]
     },
     "execution_count": 40,
     "metadata": {},
     "output_type": "execute_result"
    }
   ],
   "source": [
    "ac_today"
   ]
  },
  {
   "cell_type": "code",
   "execution_count": 33,
   "metadata": {},
   "outputs": [
    {
     "name": "stdout",
     "output_type": "stream",
     "text": [
      "{'id': '1349258906', 'title': 'Minimum Falling Path Sum', 'titleSlug': 'minimum-falling-path-sum', 'timestamp': '1723144529'}\n",
      "{'id': '1349203269', 'title': 'Triangle', 'titleSlug': 'triangle', 'timestamp': '1723140985'}\n",
      "{'id': '1349168020', 'title': 'Minimum Path Sum', 'titleSlug': 'minimum-path-sum', 'timestamp': '1723139263'}\n",
      "{'id': '1349150265', 'title': 'Unique Paths II', 'titleSlug': 'unique-paths-ii', 'timestamp': '1723138412'}\n",
      "{'id': '1348220470', 'title': 'Unique Paths', 'titleSlug': 'unique-paths', 'timestamp': '1723063392'}\n",
      "{'id': '1348161264', 'title': 'House Robber II', 'titleSlug': 'house-robber-ii', 'timestamp': '1723058752'}\n",
      "{'id': '1348127544', 'title': 'House Robber', 'titleSlug': 'house-robber', 'timestamp': '1723056684'}\n",
      "{'id': '1348112983', 'title': 'Climbing Stairs', 'titleSlug': 'climbing-stairs', 'timestamp': '1723055877'}\n",
      "{'id': '1338495579', 'title': 'Remove Duplicates from Sorted Array', 'titleSlug': 'remove-duplicates-from-sorted-array', 'timestamp': '1722348104'}\n",
      "{'id': '1338482940', 'title': 'Check if Array Is Sorted and Rotated', 'titleSlug': 'check-if-array-is-sorted-and-rotated', 'timestamp': '1722347361'}\n",
      "{'id': '1334455853', 'title': 'Create Hello World Function', 'titleSlug': 'create-hello-world-function', 'timestamp': '1722021636'}\n",
      "{'id': '1316864647', 'title': 'Minimum Path Sum', 'titleSlug': 'minimum-path-sum', 'timestamp': '1720643349'}\n",
      "{'id': '1316854729', 'title': 'Unique Paths II', 'titleSlug': 'unique-paths-ii', 'timestamp': '1720642448'}\n",
      "{'id': '1316838807', 'title': 'Unique Paths', 'titleSlug': 'unique-paths', 'timestamp': '1720641116'}\n",
      "{'id': '1316751803', 'title': 'House Robber', 'titleSlug': 'house-robber', 'timestamp': '1720635466'}\n",
      "{'id': '1316137617', 'title': 'House Robber II', 'titleSlug': 'house-robber-ii', 'timestamp': '1720598530'}\n",
      "{'id': '1316122521', 'title': 'House Robber', 'titleSlug': 'house-robber', 'timestamp': '1720597546'}\n",
      "{'id': '1314894444', 'title': 'Climbing Stairs', 'titleSlug': 'climbing-stairs', 'timestamp': '1720511653'}\n",
      "{'id': '1302308544', 'title': 'Single Element in a Sorted Array', 'titleSlug': 'single-element-in-a-sorted-array', 'timestamp': '1719516491'}\n",
      "{'id': '1302297965', 'title': 'Find Peak Element', 'titleSlug': 'find-peak-element', 'timestamp': '1719515557'}\n"
     ]
    }
   ],
   "source": [
    "for i in response_dict['data']['recentAcSubmissionList']:\n",
    "    print(i)"
   ]
  },
  {
   "cell_type": "code",
   "execution_count": 17,
   "metadata": {},
   "outputs": [],
   "source": [
    "import time"
   ]
  },
  {
   "cell_type": "code",
   "execution_count": 19,
   "metadata": {},
   "outputs": [
    {
     "data": {
      "text/plain": [
       "1724865927"
      ]
     },
     "execution_count": 19,
     "metadata": {},
     "output_type": "execute_result"
    }
   ],
   "source": [
    "today = int(time.time())\n",
    "yesterday = today - SECONDS_IN_ONE_DAY"
   ]
  },
  {
   "cell_type": "code",
   "execution_count": null,
   "metadata": {},
   "outputs": [],
   "source": []
  }
 ],
 "metadata": {
  "kernelspec": {
   "display_name": "venv",
   "language": "python",
   "name": "python3"
  },
  "language_info": {
   "codemirror_mode": {
    "name": "ipython",
    "version": 3
   },
   "file_extension": ".py",
   "mimetype": "text/x-python",
   "name": "python",
   "nbconvert_exporter": "python",
   "pygments_lexer": "ipython3",
   "version": "3.12.5"
  }
 },
 "nbformat": 4,
 "nbformat_minor": 2
}
